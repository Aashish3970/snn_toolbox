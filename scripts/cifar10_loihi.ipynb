{
 "cells": [
  {
   "cell_type": "markdown",
   "metadata": {},
   "source": [
    "# Performance of LeNet-5"
   ]
  },
  {
   "cell_type": "code",
   "execution_count": 1,
   "metadata": {
    "collapsed": true,
    "pycharm": {
     "is_executing": false
    }
   },
   "outputs": [],
   "source": [
    "\n",
    "%matplotlib inline\n",
    "\n",
    "\n",
    "import os\n",
    "import matplotlib.pyplot as plt\n",
    "\n",
    "from scripts.utils import ExpResults"
   ]
  },
  {
   "cell_type": "code",
   "execution_count": 16,
   "metadata": {
    "pycharm": {
     "is_executing": false
    }
   },
   "outputs": [],
   "source": [
    "plotproperties = {'font.size': 13,\n",
    "                  'axes.titlesize': 'xx-large',\n",
    "                  'axes.labelsize': 'xx-large',\n",
    "                  'xtick.labelsize': 'xx-large',\n",
    "                  'xtick.major.size': 7,\n",
    "                  'xtick.minor.size': 5,\n",
    "                  'ytick.labelsize': 'xx-large',\n",
    "                  'ytick.major.size': 7,\n",
    "                  'ytick.minor.size': 5,\n",
    "                  'legend.fontsize': 'xx-large',\n",
    "                  'figure.figsize': (8, 5),\n",
    "                  'savefig.dpi': 300,\n",
    "                  'savefig.format': 'jpg'}\n",
    "\n",
    "import matplotlib as mpl\n",
    "mpl.rcParams.update(plotproperties)"
   ]
  },
  {
   "cell_type": "markdown",
   "metadata": {},
   "source": [
    "## Parameters and definitions"
   ]
  },
  {
   "cell_type": "code",
   "execution_count": 17,
   "metadata": {
    "pycharm": {
     "is_executing": false
    }
   },
   "outputs": [],
   "source": [
    "log_dir = '/home/brueckau/Repositories/snntoolbox_experiments/cifar10/mobilenet/log'\n",
    "runlabel_analog = '01'\n",
    "path_analog = os.path.join(log_dir, 'gui', runlabel_analog)"
   ]
  },
  {
   "cell_type": "code",
   "execution_count": 37,
   "metadata": {
    "pycharm": {
     "is_executing": false
    }
   },
   "outputs": [],
   "source": [
    "exp_analog = ExpResults(path_analog, '', '.', color1='steelblue')\n",
    "# Convert flops to MACs.\n",
    "exp_analog.operations_ann /= 2\n",
    "experiments = [exp_analog]"
   ]
  },
  {
   "cell_type": "code",
   "execution_count": 34,
   "outputs": [],
   "source": [
    "# import numpy as np\n",
    "# avg_mops_per_timestep = np.mean(np.diff(exp_analog.mean_computations_t))"
   ],
   "metadata": {
    "collapsed": false,
    "pycharm": {
     "name": "#%%\n",
     "is_executing": false
    }
   }
  },
  {
   "cell_type": "markdown",
   "metadata": {},
   "source": [
    "## Plot error vs operations"
   ]
  },
  {
   "cell_type": "code",
   "execution_count": 38,
   "metadata": {
    "collapsed": false,
    "pycharm": {
     "is_executing": false
    }
   },
   "outputs": [
    {
     "data": {
      "text/plain": "<Figure size 576x360 with 1 Axes>",
      "image/png": "[encoded data removed]"
     },
     "metadata": {
      "needs_background": "light"
     },
     "output_type": "display_data"
    }
   ],
   "source": [
    "show_numbers = False\n",
    "\n",
    "exp = experiments[0]\n",
    "\n",
    "plt.errorbar(exp.mean_computations_t, 100 * (100 - exp.e1_mean) / (100 - exp.e1_ann), xerr=exp.std_computations_t,\n",
    "             yerr=exp.e1_confidence95, fmt=exp.marker, label='SNN '+exp.label, \n",
    "             capsize=0, elinewidth=0.1, color=exp.color1, alpha=0.1)\n",
    "\n",
    "plt.errorbar(exp.operations_ann, 100, marker='x', label='ANN '+exp.label, \n",
    "             color='crimson', markersize=15, yerr=exp.e1_confidence95_ann,\n",
    "             elinewidth=2, capthick=2, markeredgewidth=2)\n",
    "# plt.errorbar(exp.operations_ann, exp.e1_ann, marker='x', label='ANN '+exp.label, \n",
    "#              color=exp.color1, markersize=15, yerr=exp.e1_confidence95_ann,\n",
    "#              elinewidth=2, capthick=2, markeredgewidth=2)\n",
    "\n",
    "# plt.hlines(0, 0, 2)\n",
    "\n",
    "if show_numbers:\n",
    "    plt.annotate('SNN', xy=(0.2, 90), fontsize=16)\n",
    "    plt.annotate('    ANN\\n{:.2f}M macs'.format(exp.operations_ann), \n",
    "                 xy=(exp.operations_ann - 0.15, 75), fontsize=16, color='k')\n",
    "    plt.annotate('{:.2f}M synops'.format(exp.op1_1), xy=(exp.op1_1, 90),\n",
    "                 xytext=(exp.op1_1 - 0.155, 65), fontsize=16,\n",
    "                 arrowprops=dict(color='k', shrink=0.05, width=5, headwidth=10), color='k')\n",
    "    # plt.annotate('({:.2f}M ops, {:.2f}%)'.format(exp.operations_ann, exp.e1_ann), xy=(exp.operations_ann - 0.7, exp.e1_ann + 5), fontsize=16, color='k')\n",
    "    # plt.annotate('({:.2f}M ops, {:.2f}%)'.format(exp.op1_1, exp.e1_1), xy=(exp.op1_1, exp.e1_1),\n",
    "    #              xytext=(1.5 * exp.op1_1, exp.e1_1 + 15), fontsize=16,\n",
    "    #              arrowprops=dict(color='k', shrink=0.05, width=5, headwidth=10), color='k')\n",
    "plt.ylim(-5, 110)\n",
    "plt.xlim(0, None)\n",
    "plt.ylabel('Accuracy rel. to ANN [%]')\n",
    "plt.xlabel('M operations')\n",
    "# plt.legend(loc='upper right')\n",
    "# plt.title('ANN vs SNN performance')\n",
    "plt.savefig(os.path.join(log_dir, 'err_vs_ops'), bbox_inches='tight')"
   ]
  },
  {
   "cell_type": "code",
   "execution_count": 23,
   "metadata": {
    "pycharm": {
     "is_executing": false
    }
   },
   "outputs": [
    {
     "name": "stdout",
     "text": [
      "\nANN top-1:                         (1.08198 MOps/frame, 29.37 %)\nSNN top-1 best error:         (1.34221 MOps/frame, 27.78 %)\nSNN top-1 converged:        (0.74306 MOps/frame, 28.57 %)\nSNN top-1 jointly optimal:  (0.36598 MOps/frame, 38.89 %)\nSNN top-1 same op:           (0.74306 MOps/frame, 28.57 %)\n\n"
     ],
     "output_type": "stream"
    }
   ],
   "source": [
    "for exp in experiments:\n",
    "    print(exp.label)\n",
    "    print('ANN top-1:                         ({:.5f} MOps/frame, {:.2f} %)'.format(exp.operations_ann, exp.e1_ann))\n",
    "    print('SNN top-1 best error:         ({:.5f} MOps/frame, {:.2f} %)'.format(exp.op1_0, exp.e1_0))\n",
    "    print('SNN top-1 converged:        ({:.5f} MOps/frame, {:.2f} %)'.format(exp.op1_1, exp.e1_1))\n",
    "    print('SNN top-1 jointly optimal:  ({:.5f} MOps/frame, {:.2f} %)'.format(exp.op1_optimal, exp.e1_optimal))\n",
    "    print('SNN top-1 same op:           ({:.5f} MOps/frame, {:.2f} %)'.format(exp.op1_2, exp.e1_2))\n",
    "    print('')"
   ]
  },
  {
   "cell_type": "code",
   "execution_count": 16,
   "metadata": {},
   "outputs": [
    {
     "name": "stdout",
     "output_type": "stream",
     "text": [
      "[  1.00000000e-10   1.54344000e-05   4.21775150e-03   2.25456448e-02\n   5.03118092e-02   1.03228023e-01   1.73794919e-01   2.44925242e-01\n   3.18305172e-01   3.92299020e-01   4.68242377e-01   5.43228506e-01\n   6.18773413e-01   6.94115512e-01   7.69875428e-01   8.45312162e-01\n   9.20609580e-01   9.96106067e-01   1.07141262e+00   1.14634348e+00\n   1.22154180e+00   1.29651986e+00   1.37169354e+00   1.46937523e+00\n   1.55182765e+00   1.62079528e+00   1.69063206e+00   1.76148664e+00\n   1.83302229e+00   1.90560422e+00   1.97845582e+00   2.05151463e+00\n   2.12496147e+00   2.19847171e+00   2.27222290e+00   2.34578550e+00\n   2.41939989e+00   2.49320877e+00   2.56725043e+00   2.64088166e+00\n   2.71492099e+00   2.78863473e+00   2.86252752e+00   2.93691898e+00\n   3.03229950e+00   3.12892367e+00   3.20428837e+00   3.26976108e+00\n   3.33665123e+00   3.40495621e+00]\n[ 93.62  91.32  90.64  90.49  90.8   90.64  90.79  88.82  82.24  67.65\n  47.74  30.67  18.49  11.34   7.21   4.81   3.38   2.55   2.07   1.8\n   1.62   1.49   1.44   1.37   1.26   1.24   1.2    1.13   1.13   1.13\n   1.14   1.14   1.14   1.13   1.14   1.16   1.16   1.12   1.1    1.09\n   1.09   1.09   1.08   1.08   1.07   1.07   1.08   1.08   1.08   1.08]\n"
     ]
    }
   ],
   "source": [
    "print(exp.mean_computations_t)\n",
    "print(exp.e1_mean)"
   ]
  },
  {
   "cell_type": "code",
   "execution_count": null,
   "metadata": {},
   "outputs": [],
   "source": []
  }
 ],
 "metadata": {
  "kernelspec": {
   "name": "pycharm-33610f3e",
   "language": "python",
   "display_name": "PyCharm (nxsdk-nxsdk)"
  },
  "language_info": {
   "codemirror_mode": {
    "name": "ipython",
    "version": 2
   },
   "file_extension": ".py",
   "mimetype": "text/x-python",
   "name": "python",
   "nbconvert_exporter": "python",
   "pygments_lexer": "ipython2",
   "version": "2.7.6"
  },
  "pycharm": {
   "stem_cell": {
    "cell_type": "raw",
    "source": [],
    "metadata": {
     "collapsed": false
    }
   }
  }
 },
 "nbformat": 4,
 "nbformat_minor": 0
}